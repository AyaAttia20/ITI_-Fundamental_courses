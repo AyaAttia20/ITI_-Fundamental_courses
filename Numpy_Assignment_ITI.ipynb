{
  "cells": [
    {
      "cell_type": "markdown",
      "id": "d466a3ad",
      "metadata": {
        "id": "d466a3ad"
      },
      "source": [
        "# Lab Assignment"
      ]
    },
    {
      "cell_type": "markdown",
      "id": "7b75ffe0",
      "metadata": {
        "id": "7b75ffe0"
      },
      "source": [
        "### Q1: Write a NumPy program to create a structured array from given student name, height, class and their data types. Then sort the array on height"
      ]
    },
    {
      "cell_type": "code",
      "execution_count": null,
      "id": "deadfb81",
      "metadata": {
        "id": "deadfb81"
      },
      "outputs": [],
      "source": [
        "import numpy as np"
      ]
    },
    {
      "cell_type": "code",
      "execution_count": null,
      "id": "45ba37b1",
      "metadata": {
        "id": "45ba37b1",
        "outputId": "f8eb5b65-2ecd-426f-edb8-82d147805a8a"
      },
      "outputs": [
        {
          "data": {
            "text/plain": [
              "array([('Aya', 160., 1), ('simba', 150., 2), ('mufasa', 170., 3)],\n",
              "      dtype=[('st_name', '<U10'), ('height', '<f8'), ('class', '<i4')])"
            ]
          },
          "execution_count": 4,
          "metadata": {},
          "output_type": "execute_result"
        }
      ],
      "source": [
        "arr=np.array([('Aya',160,1),('simba',150,2),('mufasa',170,3)],dtype=[('st_name', (np.str_, 10)), ('height',np.float64), ('class', np.int32)])\n",
        "arr"
      ]
    },
    {
      "cell_type": "code",
      "execution_count": null,
      "id": "e89fbcbf",
      "metadata": {
        "id": "e89fbcbf",
        "outputId": "8e4cc935-7d51-435e-a6c4-92747692013b"
      },
      "outputs": [
        {
          "data": {
            "text/plain": [
              "array([('simba', 150., 2), ('Aya', 160., 1), ('mufasa', 170., 3)],\n",
              "      dtype=[('st_name', '<U10'), ('height', '<f8'), ('class', '<i4')])"
            ]
          },
          "execution_count": 6,
          "metadata": {},
          "output_type": "execute_result"
        }
      ],
      "source": [
        "arr_sorted=np.sort(arr,order='height')\n",
        "arr_sorted"
      ]
    },
    {
      "cell_type": "code",
      "execution_count": null,
      "id": "7e633bbc",
      "metadata": {
        "id": "7e633bbc"
      },
      "outputs": [],
      "source": []
    },
    {
      "cell_type": "markdown",
      "id": "cf4db6da",
      "metadata": {
        "id": "cf4db6da"
      },
      "source": [
        "### Q2: Using Both Numpy and Scipy T Kindly solve the following equations using SciPy:\n",
        "- x + 2y - 3z + 2w = 30\n",
        "- 2x - 5y + 4z + 9w = 4\n",
        "- -5x + 40y - z - 20w =- 6\n",
        "- 5x - 4y - z + 60w = 5"
      ]
    },
    {
      "cell_type": "code",
      "execution_count": null,
      "id": "ac48fd43",
      "metadata": {
        "id": "ac48fd43"
      },
      "outputs": [],
      "source": [
        "from scipy import linalg"
      ]
    },
    {
      "cell_type": "code",
      "execution_count": null,
      "id": "3f0b5819",
      "metadata": {
        "id": "3f0b5819"
      },
      "outputs": [],
      "source": [
        "coff = np.array([[1, 2,-3,2], [2,-5,4,9], [-5, 40, -1,-20],[5,-4,-1,60]])\n",
        "c=np.array([[30],[4],[-6],[5]])"
      ]
    },
    {
      "cell_type": "code",
      "execution_count": null,
      "id": "cdd45de3",
      "metadata": {
        "id": "cdd45de3",
        "outputId": "db36a7cf-c89e-48d3-b3f8-40ec44784a0e"
      },
      "outputs": [
        {
          "data": {
            "text/plain": [
              "array([[19.46701571],\n",
              "       [ 1.44371728],\n",
              "       [-3.54973822],\n",
              "       [-1.50183246]])"
            ]
          },
          "execution_count": 11,
          "metadata": {},
          "output_type": "execute_result"
        }
      ],
      "source": [
        "solu_eq=linalg.solve(coff,c)\n",
        "solu_eq"
      ]
    },
    {
      "cell_type": "code",
      "execution_count": null,
      "id": "aeac521b",
      "metadata": {
        "id": "aeac521b"
      },
      "outputs": [],
      "source": []
    },
    {
      "cell_type": "markdown",
      "id": "f0707533",
      "metadata": {
        "id": "f0707533"
      },
      "source": [
        "### Q3: Implement the L1 and L2 loss functions\n",
        "- Exercise: Implement the numpy vectorized version of the L1 loss. You may find the function abs(x) (absolute value of x) useful.\n",
        "![image.png](attachment:image.png)"
      ]
    },
    {
      "cell_type": "code",
      "execution_count": null,
      "id": "9b7971d4",
      "metadata": {
        "id": "9b7971d4"
      },
      "outputs": [],
      "source": [
        "def L1(yhat, y):\n",
        "    \"\"\"\n",
        "    Arguments:\n",
        "    yhat -- vector of size m (predicted labels)\n",
        "    y -- vector of size m (true labels)\n",
        "\n",
        "    Returns:\n",
        "    loss -- the value of the L1 loss function defined above\n",
        "    \"\"\"\n",
        "\n",
        "    loss = np.sum(abs(yhat - y))\n",
        "\n",
        "    return loss"
      ]
    },
    {
      "cell_type": "code",
      "execution_count": null,
      "id": "78092bf5",
      "metadata": {
        "id": "78092bf5",
        "outputId": "61286300-b5ae-4ca9-b692-2e56cc6e0800"
      },
      "outputs": [
        {
          "name": "stdout",
          "output_type": "stream",
          "text": [
            "L1 = 1.1\n"
          ]
        }
      ],
      "source": [
        "yhat = np.array([.9, 0.2, 0.1, .4, .9])\n",
        "y    = np.array([1 ,  0 ,  0 ,  1, 1])\n",
        "\n",
        "l1_loss = L1(yhat,y)\n",
        "print(\"L1 = \" + str(l1_loss))"
      ]
    },
    {
      "cell_type": "code",
      "execution_count": null,
      "id": "1138fcf6",
      "metadata": {
        "colab": {
          "base_uri": "https://localhost:8080/"
        },
        "id": "1138fcf6",
        "outputId": "58796349-e609-4b34-c7f6-d5e8adcf9fc6"
      },
      "outputs": [
        {
          "data": {
            "text/plain": [
              "1.1"
            ]
          },
          "execution_count": 1,
          "metadata": {},
          "output_type": "execute_result"
        }
      ],
      "source": [
        "# check the output\n",
        "# abs((1-.9))+abs(.2-0)+abs((0.1-0))+abs((.4-1))+abs((.9-1))"
      ]
    },
    {
      "cell_type": "markdown",
      "id": "7dd73989",
      "metadata": {
        "id": "7dd73989"
      },
      "source": [
        "![image.png](attachment:image.png)"
      ]
    },
    {
      "cell_type": "code",
      "execution_count": null,
      "id": "73e48768",
      "metadata": {
        "id": "73e48768"
      },
      "outputs": [],
      "source": [
        "def L2(yhat, y):\n",
        "    \"\"\"\n",
        "    Arguments:\n",
        "    yhat -- vector of size m (predicted labels)\n",
        "    y -- vector of size m (true labels)\n",
        "\n",
        "    Returns:\n",
        "    loss -- the value of the L2 loss function defined above\n",
        "    \"\"\"\n",
        "    loss = np.sum((yhat-y)**2)\n",
        "\n",
        "    return loss"
      ]
    },
    {
      "cell_type": "code",
      "execution_count": null,
      "id": "7c2dd4d3",
      "metadata": {
        "id": "7c2dd4d3",
        "outputId": "90a8d7df-b1c1-4c69-a13d-c05b04ff7ad2"
      },
      "outputs": [
        {
          "name": "stdout",
          "output_type": "stream",
          "text": [
            "L2 = 0.43\n"
          ]
        }
      ],
      "source": [
        "yhat = np.array([.9, 0.2, 0.1, .4, .9])\n",
        "y    = np.array([1 ,  0 ,  0 ,  1, 1])\n",
        "\n",
        "l2_loss = L2(yhat,y)\n",
        "\n",
        "print(\"L2 = \" + str(l2_loss))"
      ]
    },
    {
      "cell_type": "code",
      "execution_count": null,
      "id": "3fa3c828",
      "metadata": {
        "id": "3fa3c828",
        "outputId": "d48d9740-38cf-4c42-ccb4-6cd99c74f645"
      },
      "outputs": [
        {
          "data": {
            "text/plain": [
              "0.43"
            ]
          },
          "execution_count": 25,
          "metadata": {},
          "output_type": "execute_result"
        }
      ],
      "source": [
        "# check the output\n",
        "# (1-.9)**2+(.2-0)**2+(0.1-0)**2+(.4-1)**2+(.9-1)**2"
      ]
    },
    {
      "cell_type": "code",
      "execution_count": null,
      "id": "59fab5df",
      "metadata": {
        "id": "59fab5df"
      },
      "outputs": [],
      "source": []
    },
    {
      "cell_type": "markdown",
      "id": "4f795660",
      "metadata": {
        "id": "4f795660"
      },
      "source": [
        "### Q4: comparing the dot product using parallelism in python vs numpy_dot_product vs using the for_loop and compute the time needed for each."
      ]
    },
    {
      "cell_type": "code",
      "execution_count": null,
      "id": "c8ba0f03",
      "metadata": {
        "id": "c8ba0f03"
      },
      "outputs": [],
      "source": [
        "from multiprocessing import Pool\n",
        "import time\n",
        "t1 = time.time()"
      ]
    },
    {
      "cell_type": "code",
      "execution_count": null,
      "id": "e10ba8d0",
      "metadata": {
        "id": "e10ba8d0"
      },
      "outputs": [],
      "source": [
        "T=1000"
      ]
    },
    {
      "cell_type": "code",
      "execution_count": null,
      "id": "840629d5",
      "metadata": {
        "id": "840629d5"
      },
      "outputs": [],
      "source": [
        "a = np.random.randn(10_000)\n",
        "b = np.random.randn(10_000)"
      ]
    },
    {
      "cell_type": "markdown",
      "id": "60c6d653",
      "metadata": {
        "id": "60c6d653"
      },
      "source": [
        "#### dot product using parallelism using Pool"
      ]
    },
    {
      "cell_type": "code",
      "execution_count": null,
      "id": "KU9pl-O9f9gI",
      "metadata": {
        "id": "KU9pl-O9f9gI"
      },
      "outputs": [],
      "source": [
        "def dot_mat(a,b):\n",
        "    return np.dot(a,b)"
      ]
    },
    {
      "cell_type": "code",
      "execution_count": null,
      "id": "yidkA2sAgBfV",
      "metadata": {
        "colab": {
          "base_uri": "https://localhost:8080/"
        },
        "id": "yidkA2sAgBfV",
        "outputId": "4ba6850b-7ff8-473b-e2a7-7ee6f5c98a69"
      },
      "outputs": [
        {
          "name": "stdout",
          "output_type": "stream",
          "text": [
            "[array([-0.79031686,  0.5289336 , -2.61375071, ..., -1.92236507,\n",
            "        0.94138773, -0.13842186]), array([ 0.68773723,  0.77262585,  0.24194786, ..., -0.85997318,\n",
            "        1.75481496, -1.46419491]), array([ 0.51054975, -0.35998492,  0.35801153, ..., -1.59615321,\n",
            "        0.46241016,  1.65819506])]\n",
            "[array([ 0.23402919,  0.65367088, -0.56914914, ..., -0.62460049,\n",
            "       -1.6989287 ,  1.61098555]), array([-1.67580487,  0.75260991, -0.16778846, ..., -0.22998607,\n",
            "        1.54220816, -1.56683015]), array([ 0.60189321, -0.92243504,  3.19732785, ...,  1.83166329,\n",
            "       -0.13654345,  1.81901307])]\n"
          ]
        }
      ],
      "source": [
        "a_splited = np.array_split(a, 3)\n",
        "b_splited = np.array_split(b, 3)\n",
        "print(a_splited)\n",
        "print(b_splited)"
      ]
    },
    {
      "cell_type": "code",
      "execution_count": null,
      "id": "4jrvXrYsgLDv",
      "metadata": {
        "id": "4jrvXrYsgLDv"
      },
      "outputs": [],
      "source": [
        "pool = Pool(3)\n",
        "result = pool.starmap(dot_mat,zip(a_splited, b_splited))"
      ]
    },
    {
      "cell_type": "code",
      "execution_count": null,
      "id": "Hn8Po_XynCIf",
      "metadata": {
        "colab": {
          "base_uri": "https://localhost:8080/"
        },
        "id": "Hn8Po_XynCIf",
        "outputId": "84f595ad-fb79-45ae-d622-1953f308aef8"
      },
      "outputs": [
        {
          "data": {
            "text/plain": [
              "[11.100307831562501, 15.348685493126787, -23.26423540222718]"
            ]
          },
          "execution_count": 10,
          "metadata": {},
          "output_type": "execute_result"
        }
      ],
      "source": [
        "result"
      ]
    },
    {
      "cell_type": "code",
      "execution_count": null,
      "id": "yD1v_BLWhb4C",
      "metadata": {
        "colab": {
          "base_uri": "https://localhost:8080/"
        },
        "id": "yD1v_BLWhb4C",
        "outputId": "d2717264-d7be-417f-c3a6-e8ec0b049b30"
      },
      "outputs": [
        {
          "name": "stdout",
          "output_type": "stream",
          "text": [
            "Time in sec: 0.00015352600000007044\n"
          ]
        }
      ],
      "source": [
        "\n",
        "tic = time.process_time()\n",
        "\n",
        "for t in range(T):\n",
        "      result\n",
        "\n",
        "\n",
        "toc = time.process_time()\n",
        "dt1 = toc - tic\n",
        "\n",
        "print(\"Time in sec:\", dt1)"
      ]
    },
    {
      "cell_type": "markdown",
      "id": "e0e6fe8a",
      "metadata": {
        "id": "e0e6fe8a"
      },
      "source": [
        "#### using the for_loop"
      ]
    },
    {
      "cell_type": "code",
      "execution_count": null,
      "id": "2dfc153f",
      "metadata": {
        "id": "2dfc153f"
      },
      "outputs": [],
      "source": [
        "def dot_(a, b):\n",
        "    result = 0\n",
        "    for i in range(len(a)):\n",
        "        result += a[i] * b[i]\n",
        "    return result\n",
        "\n",
        "# dot_(a, b)"
      ]
    },
    {
      "cell_type": "code",
      "execution_count": null,
      "id": "eeec5988",
      "metadata": {
        "id": "eeec5988",
        "outputId": "bc47f5d6-9877-4e62-9708-e1f6342cabf8"
      },
      "outputs": [
        {
          "name": "stdout",
          "output_type": "stream",
          "text": [
            "Time in sec: 2.953125\n"
          ]
        }
      ],
      "source": [
        "tic = time.process_time()\n",
        "\n",
        "for t in range(T):\n",
        "    dot_(a, b)\n",
        "\n",
        "toc = time.process_time()\n",
        "dt1 = toc - tic\n",
        "\n",
        "print(\"Time in sec:\", dt1)"
      ]
    },
    {
      "cell_type": "markdown",
      "id": "e8aea78a",
      "metadata": {
        "id": "e8aea78a"
      },
      "source": [
        "#### using the numpy dot"
      ]
    },
    {
      "cell_type": "code",
      "execution_count": null,
      "id": "9dbd425e",
      "metadata": {
        "id": "9dbd425e",
        "outputId": "cd3bbe32-fa49-4b51-8367-26f0a302e8f7"
      },
      "outputs": [
        {
          "name": "stdout",
          "output_type": "stream",
          "text": [
            "Time in sec: 0.0\n"
          ]
        }
      ],
      "source": [
        "tic = time.process_time()\n",
        "\n",
        "for t in range(T):\n",
        "     np.dot(a,b)\n",
        "\n",
        "toc = time.process_time()\n",
        "dt1 = toc - tic\n",
        "\n",
        "print(\"Time in sec:\", dt1)"
      ]
    },
    {
      "cell_type": "markdown",
      "id": "524b10d3",
      "metadata": {
        "id": "524b10d3"
      },
      "source": [
        "#### using the mathematical operations"
      ]
    },
    {
      "cell_type": "code",
      "execution_count": null,
      "id": "e0992db5",
      "metadata": {
        "id": "e0992db5",
        "outputId": "7f94bf61-6426-4d45-cbd7-1bf73cffcd60"
      },
      "outputs": [
        {
          "name": "stdout",
          "output_type": "stream",
          "text": [
            "Time in sec: 0.015625\n"
          ]
        }
      ],
      "source": [
        "tic = time.process_time()\n",
        "\n",
        "for t in range(T):\n",
        "     np.sum(a*b)\n",
        "\n",
        "toc = time.process_time()\n",
        "dt1 = toc - tic\n",
        "\n",
        "print(\"Time in sec:\", dt1)"
      ]
    },
    {
      "cell_type": "code",
      "execution_count": null,
      "id": "53b6d5a6",
      "metadata": {
        "id": "53b6d5a6"
      },
      "outputs": [],
      "source": []
    }
  ],
  "metadata": {
    "accelerator": "GPU",
    "colab": {
      "gpuType": "T4",
      "provenance": []
    },
    "kernelspec": {
      "display_name": "Python 3",
      "name": "python3"
    },
    "language_info": {
      "codemirror_mode": {
        "name": "ipython",
        "version": 3
      },
      "file_extension": ".py",
      "mimetype": "text/x-python",
      "name": "python",
      "nbconvert_exporter": "python",
      "pygments_lexer": "ipython3",
      "version": "3.11.3"
    }
  },
  "nbformat": 4,
  "nbformat_minor": 5
}
